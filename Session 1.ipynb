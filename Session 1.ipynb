{
 "cells": [
  {
   "cell_type": "code",
   "execution_count": null,
   "id": "df3ac142",
   "metadata": {},
   "outputs": [],
   "source": [
    "print (\"Hello World\")"
   ]
  },
  {
   "cell_type": "code",
   "execution_count": 16,
   "id": "76c13f85",
   "metadata": {},
   "outputs": [
    {
     "name": "stdout",
     "output_type": "stream",
     "text": [
      "frederick R\n"
     ]
    }
   ],
   "source": [
    "name = \"frederick R\"\n",
    "print (name)"
   ]
  },
  {
   "cell_type": "code",
   "execution_count": 3,
   "id": "47b64a40",
   "metadata": {},
   "outputs": [],
   "source": [
    "name = 'umair'\n",
    "age = 30 \n",
    "height = 172.5 # float\n",
    "b = True\n"
   ]
  },
  {
   "cell_type": "code",
   "execution_count": 4,
   "id": "7cc3df5b",
   "metadata": {},
   "outputs": [
    {
     "name": "stdout",
     "output_type": "stream",
     "text": [
      "<class 'str'>\n"
     ]
    }
   ],
   "source": [
    "print (type(name) )"
   ]
  },
  {
   "cell_type": "code",
   "execution_count": 5,
   "id": "05ed50c4",
   "metadata": {},
   "outputs": [
    {
     "name": "stdout",
     "output_type": "stream",
     "text": [
      "<class 'int'>\n"
     ]
    }
   ],
   "source": [
    "print(type(age))"
   ]
  },
  {
   "cell_type": "code",
   "execution_count": 6,
   "id": "551a133d",
   "metadata": {},
   "outputs": [
    {
     "name": "stdout",
     "output_type": "stream",
     "text": [
      "<class 'float'>\n"
     ]
    }
   ],
   "source": [
    "print(type(height))"
   ]
  },
  {
   "cell_type": "code",
   "execution_count": null,
   "id": "5f78425d",
   "metadata": {},
   "outputs": [
    {
     "data": {
      "text/plain": [
       "bool"
      ]
     },
     "execution_count": 7,
     "metadata": {},
     "output_type": "execute_result"
    }
   ],
   "source": [
    "print(type(b))"
   ]
  },
  {
   "cell_type": "code",
   "execution_count": null,
   "id": "87d47565",
   "metadata": {},
   "outputs": [],
   "source": [
    "# in future after\n",
    "# tablet object\n",
    "# computer object\n",
    "\n"
   ]
  },
  {
   "cell_type": "markdown",
   "id": "a7d9115b",
   "metadata": {},
   "source": [
    "#### simple calculator (it will have x and y and pritn sum diff product and division)"
   ]
  },
  {
   "cell_type": "code",
   "execution_count": null,
   "id": "ba233ef2",
   "metadata": {},
   "outputs": [
    {
     "name": "stdout",
     "output_type": "stream",
     "text": [
      "sum is  4443243324\n",
      "diff is  -4043243324\n",
      "product is  848648664800000000\n",
      "division is  0.04713375706474098\n"
     ]
    }
   ],
   "source": [
    "x = 200000000 # i am writing an int in variable x\n",
    "y = 4243243324 \n",
    "\n",
    "s = x+y # x and y are adding via + sign and saving to s variable\n",
    "d = x-y\n",
    "p = x*y\n",
    "di = x/y \n",
    "\n",
    "print ('sum is ',s)\n",
    "print ('diff is ',d)\n",
    "print ('product is ',p)\n",
    "print ('division is ',di)\n"
   ]
  },
  {
   "cell_type": "code",
   "execution_count": null,
   "id": "51319ede",
   "metadata": {},
   "outputs": [],
   "source": []
  }
 ],
 "metadata": {
  "kernelspec": {
   "display_name": "Python 3",
   "language": "python",
   "name": "python3"
  },
  "language_info": {
   "codemirror_mode": {
    "name": "ipython",
    "version": 3
   },
   "file_extension": ".py",
   "mimetype": "text/x-python",
   "name": "python",
   "nbconvert_exporter": "python",
   "pygments_lexer": "ipython3",
   "version": "3.11.9"
  }
 },
 "nbformat": 4,
 "nbformat_minor": 5
}
